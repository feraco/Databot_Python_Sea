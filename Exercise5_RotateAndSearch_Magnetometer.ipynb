{
 "cells": [
  {
   "cell_type": "markdown",
   "id": "2e7a2c20",
   "metadata": {},
   "source": [
    "# Exercise5 RotateAndSearch Magnetometer\n",
    "\n",
    "## Objective\n",
    "Use the magnetometer to track heading while performing a slow rotating scan in a search-and-rescue dive."
   ]
  },
  {
   "cell_type": "code",
   "execution_count": null,
   "id": "8e507c86",
   "metadata": {},
   "outputs": [],
   "source": [
    "# TODO: Configure your Databot sensors and settings\n",
    "from databot import DatabotConfig\n",
    "config = DatabotConfig()\n",
    "# Enable the appropriate sensor below (e.g., ambLight, pressure, etc.)"
   ]
  },
  {
   "cell_type": "code",
   "execution_count": null,
   "id": "e1b5a105",
   "metadata": {},
   "outputs": [],
   "source": [
    "# TODO: Write a function or logger class to process sensor data\n",
    "# Tip: You may want to convert raw sensor values, set LED feedback, or store dive-related info"
   ]
  },
  {
   "cell_type": "code",
   "execution_count": null,
   "id": "23720715",
   "metadata": {},
   "outputs": [],
   "source": [
    "# TODO: Start your data collector and run your underwater test\n",
    "# Use number_of_records_to_collect to limit log length"
   ]
  },
  {
   "cell_type": "code",
   "execution_count": null,
   "id": "595cd8ce",
   "metadata": {},
   "outputs": [],
   "source": [
    "# TODO: Visualize your data after the dive\n",
    "# Use matplotlib or print summaries to analyze your underwater ROV experiment"
   ]
  }
 ],
 "metadata": {},
 "nbformat": 4,
 "nbformat_minor": 5
}
