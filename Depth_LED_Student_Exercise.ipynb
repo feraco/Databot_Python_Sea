{
 "cells": [
  {
   "cell_type": "markdown",
   "id": "672ade56",
   "metadata": {},
   "source": [
    "#  Day 1: Depth Calibration with Pressure Sensor and LED Feedback\n",
    "##  Step 0: Pair with Your Databot\n",
    "Run the cell below to scan and save the Bluetooth address of your Databot. This only needs to be done once per computer.\n",
    "\n",
    "```python\n",
    "from databot import PyDatabot\n",
    "PyDatabot.get_databot_address(force_address_read=True)\n",
    "```"
   ]
  },
  {
   "cell_type": "markdown",
   "id": "3cbbd20e",
   "metadata": {},
   "source": [
    "##  Step 1: Databot Configuration\n",
    "You're going to enable the pressure sensor and set the LED to blue.\n",
    "\n",
    "### `DatabotConfig()` Parameters:\n",
    "- `pressure = True`: enables the atmospheric pressure sensor\n",
    "- `led1 = DatabotLEDConfig(state, R, G, B)` sets LED1 with RGB values"
   ]
  },
  {
   "cell_type": "code",
   "execution_count": null,
   "id": "34b60d96",
   "metadata": {},
   "outputs": [],
   "source": [
    "# ✅ DONE: Set up Databot configuration\n",
    "from databot import DatabotConfig, DatabotLEDConfig, PyDatabot\n",
    "\n",
    "c = DatabotConfig()\n",
    "c.pressure = True\n",
    "c.led1 = DatabotLEDConfig(True, 0, 0, 255)  # Blue\n",
    "c.address = PyDatabot.get_databot_address()"
   ]
  },
  {
   "cell_type": "markdown",
   "id": "29d6c7f1",
   "metadata": {},
   "source": [
    "### DatabotLEDConfig Format\n",
    "`DatabotLEDConfig(state, R, G, B)` configures the LED behavior on the Databot.\n",
    "\n",
    "**Parameters:**\n",
    "- `state` (bool): `True` to turn the LED on, `False` to turn it off\n",
    "- `R` (int): Red intensity (0 to 255)\n",
    "- `G` (int): Green intensity (0 to 255)\n",
    "- `B` (int): Blue intensity (0 to 255)\n",
    "\n",
    "**Examples:**\n",
    "- `DatabotLEDConfig(True, 255, 0, 0)` → Red LED on\n",
    "- `DatabotLEDConfig(True, 0, 255, 0)` → Green LED on\n",
    "- `DatabotLEDConfig(True, 0, 0, 255)` → Blue LED on\n",
    "- `DatabotLEDConfig(False, 0, 0, 0)` → LED off"
   ]
  },
  {
   "cell_type": "markdown",
   "id": "32707a2b",
   "metadata": {},
   "source": [
    "##  Step 2: Convert Pressure to Depth\n",
    "Write a function that calculates depth from a pressure value in Pascals.\n",
    "- Use sea level pressure = `101325`\n",
    "- Use water density = `1000`\n",
    "- Use gravity = `9.8`"
   ]
  },
  {
   "cell_type": "code",
   "execution_count": null,
   "id": "e1517c64",
   "metadata": {},
   "outputs": [],
   "source": [
    "# 🧠 TODO: Complete this function\n",
    "def calculate_depth(pressure):\n",
    "    # Subtract sea level pressure\n",
    "    adjusted = pressure - 101325\n",
    "    # Convert to depth in meters\n",
    "    depth = adjusted / (1000 * 9.8)  # ρ * g\n",
    "    return depth\n",
    "\n",
    "# Test your function\n",
    "print(f\"Test depth: {calculate_depth(102325):.2f} m\")"
   ]
  },
  {
   "cell_type": "markdown",
   "id": "80b08dc2",
   "metadata": {},
   "source": [
    "##  Step 3: Write a Function to Set LED Based on Depth\n",
    "Write a function that returns a `DatabotLEDConfig` color based on the depth:\n",
    "- Blue for < 1.0 m\n",
    "- Green for 1.0–2.5 m\n",
    "- Red for > 2.5 m"
   ]
  },
  {
   "cell_type": "code",
   "execution_count": null,
   "id": "cc3b708e",
   "metadata": {},
   "outputs": [],
   "source": [
    "# 🧠 TODO: Fill in this LED decision function\n",
    "def get_led_color(depth):\n",
    "    if depth > 2.5:\n",
    "        return DatabotLEDConfig(True, 255, 0, 0)  # Red\n",
    "    elif depth > 1.0:\n",
    "        return DatabotLEDConfig(True, 0, 255, 0)  # Green\n",
    "    else:\n",
    "        return DatabotLEDConfig(True, 0, 0, 255)  # Blue\n",
    "\n",
    "# Try it\n",
    "print(get_led_color(0.5))"
   ]
  },
  {
   "cell_type": "markdown",
   "id": "d0a3d1c6",
   "metadata": {},
   "source": [
    "##  Step 4: Create a Custom Logger\n",
    "This class logs data from the Databot, calculates depth, sets the LED, and writes to a file."
   ]
  },
  {
   "cell_type": "code",
   "execution_count": null,
   "id": "84cdc8bc",
   "metadata": {},
   "outputs": [],
   "source": [
    "# ✅ DONE: Logger class using your functions\n",
    "import json\n",
    "from databot import PyDatabotSaveToFileDataCollector\n",
    "\n",
    "class DepthFeedbackLogger(PyDatabotSaveToFileDataCollector):\n",
    "    def process_databot_data(self, epoch, data):\n",
    "        # Get pressure value\n",
    "        pressure = float(data.get(\"pressure\", 101325))\n",
    "        # 🔧 Use your function to calculate depth\n",
    "        depth = calculate_depth(pressure)\n",
    "        data[\"depth\"] = round(depth, 2)\n",
    "\n",
    "        # 🔧 Set the LED based on depth\n",
    "        self.databot_config.led1 = get_led_color(depth)\n",
    "\n",
    "        # Save to file\n",
    "        data['timestamp'] = epoch\n",
    "        with open(self.file_path, 'a') as f:\n",
    "            f.write(json.dumps(data) + \"\\n\")\n",
    "\n",
    "        print(f\"Depth: {depth:.2f} m | Pressure: {pressure:.2f} Pa\")\n",
    "        self.record_number += 1\n",
    "        if self.number_of_records_to_collect and self.record_number >= self.number_of_records_to_collect:\n",
    "            raise Exception(\"Data collection complete\")"
   ]
  },
  {
   "cell_type": "markdown",
   "id": "4413d485",
   "metadata": {},
   "source": [
    "##  Step 5: Start the Dive Logger\n",
    "This collects 100 readings and stores them in a file."
   ]
  },
  {
   "cell_type": "code",
   "execution_count": null,
   "id": "6d10ca98",
   "metadata": {},
   "outputs": [],
   "source": [
    "# ✅ DONE: Run logger\n",
    "filename = \"depth_log_day1.txt\"\n",
    "logger = DepthFeedbackLogger(c, filename, number_of_records_to_collect=100)\n",
    "logger.run()"
   ]
  },
  {
   "cell_type": "markdown",
   "id": "20c34796",
   "metadata": {},
   "source": [
    "##  Step 6: Plot Your Dive Data\n",
    "After the dive, load the data file and create a graph showing depth over time."
   ]
  },
  {
   "cell_type": "code",
   "execution_count": null,
   "id": "fa3ac9b4",
   "metadata": {},
   "outputs": [],
   "source": [
    "# ✅ DONE: Plotting code\n",
    "import matplotlib.pyplot as plt\n",
    "\n",
    "depths = []\n",
    "timestamps = []\n",
    "\n",
    "with open(filename, 'r') as f:\n",
    "    for line in f:\n",
    "        record = json.loads(line)\n",
    "        depths.append(record[\"depth\"])\n",
    "        timestamps.append(record[\"timestamp\"])\n",
    "\n",
    "plt.plot(timestamps, depths, label=\"Depth (m)\")\n",
    "plt.xlabel(\"Time (s)\")\n",
    "plt.ylabel(\"Depth (m)\")\n",
    "plt.title(\"ROV Dive Depth Log\")\n",
    "plt.grid(True)\n",
    "plt.legend()\n",
    "plt.show()"
   ]
  }
 ],
 "metadata": {},
 "nbformat": 4,
 "nbformat_minor": 5
}
