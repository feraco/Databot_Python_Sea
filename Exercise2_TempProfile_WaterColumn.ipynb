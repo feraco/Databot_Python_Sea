{
 "cells": [
  {
   "cell_type": "markdown",
   "id": "2cfdab96",
   "metadata": {},
   "source": [
    "# Exercise2 TempProfile WaterColumn\n",
    "\n",
    "## Objective\n",
    "Use the external temperature sensor to record temperature at different depths during a dive and visualize the profile."
   ]
  },
  {
   "cell_type": "code",
   "execution_count": null,
   "id": "a8235e85",
   "metadata": {},
   "outputs": [],
   "source": [
    "# TODO: Configure your Databot sensors and settings\n",
    "from databot import DatabotConfig\n",
    "config = DatabotConfig()\n",
    "# Enable the appropriate sensor below (e.g., ambLight, pressure, etc.)"
   ]
  },
  {
   "cell_type": "code",
   "execution_count": null,
   "id": "eed6f3fe",
   "metadata": {},
   "outputs": [],
   "source": [
    "# TODO: Write a function or logger class to process sensor data\n",
    "# Tip: You may want to convert raw sensor values, set LED feedback, or store dive-related info"
   ]
  },
  {
   "cell_type": "code",
   "execution_count": null,
   "id": "9f82e186",
   "metadata": {},
   "outputs": [],
   "source": [
    "# TODO: Start your data collector and run your underwater test\n",
    "# Use number_of_records_to_collect to limit log length"
   ]
  },
  {
   "cell_type": "code",
   "execution_count": null,
   "id": "2e6e882d",
   "metadata": {},
   "outputs": [],
   "source": [
    "# TODO: Visualize your data after the dive\n",
    "# Use matplotlib or print summaries to analyze your underwater ROV experiment"
   ]
  }
 ],
 "metadata": {},
 "nbformat": 4,
 "nbformat_minor": 5
}
