{
 "cells": [
  {
   "cell_type": "markdown",
   "id": "655fcca0",
   "metadata": {},
   "source": [
    "# Exercise3 PressureToDepth Log\n",
    "\n",
    "## Objective\n",
    "Convert pressure sensor data into estimated depth readings during an underwater ROV mission."
   ]
  },
  {
   "cell_type": "code",
   "execution_count": null,
   "id": "564872fc",
   "metadata": {},
   "outputs": [],
   "source": [
    "# TODO: Configure your Databot sensors and settings\n",
    "from databot import DatabotConfig\n",
    "config = DatabotConfig()\n",
    "# Enable the appropriate sensor below (e.g., ambLight, pressure, etc.)"
   ]
  },
  {
   "cell_type": "code",
   "execution_count": null,
   "id": "589f7e4f",
   "metadata": {},
   "outputs": [],
   "source": [
    "# TODO: Write a function or logger class to process sensor data\n",
    "# Tip: You may want to convert raw sensor values, set LED feedback, or store dive-related info"
   ]
  },
  {
   "cell_type": "code",
   "execution_count": null,
   "id": "536faf0f",
   "metadata": {},
   "outputs": [],
   "source": [
    "# TODO: Start your data collector and run your underwater test\n",
    "# Use number_of_records_to_collect to limit log length"
   ]
  },
  {
   "cell_type": "code",
   "execution_count": null,
   "id": "afd8452d",
   "metadata": {},
   "outputs": [],
   "source": [
    "# TODO: Visualize your data after the dive\n",
    "# Use matplotlib or print summaries to analyze your underwater ROV experiment"
   ]
  }
 ],
 "metadata": {},
 "nbformat": 4,
 "nbformat_minor": 5
}
