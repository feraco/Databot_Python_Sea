{
 "cells": [
  {
   "cell_type": "markdown",
   "id": "f961a737",
   "metadata": {},
   "source": [
    "# Exercise1 LightSensor Underwater\n",
    "\n",
    "## Objective\n",
    "Use the ambient light sensor to detect when the ROV enters a dark underwater tunnel or shaded area."
   ]
  },
  {
   "cell_type": "code",
   "execution_count": null,
   "id": "1b0cd986",
   "metadata": {},
   "outputs": [],
   "source": [
    "# TODO: Configure your Databot sensors and settings\n",
    "from databot import DatabotConfig\n",
    "config = DatabotConfig()\n",
    "# Enable the appropriate sensor below (e.g., ambLight, pressure, etc.)"
   ]
  },
  {
   "cell_type": "code",
   "execution_count": null,
   "id": "7749cc8e",
   "metadata": {},
   "outputs": [],
   "source": [
    "# TODO: Write a function or logger class to process sensor data\n",
    "# Tip: You may want to convert raw sensor values, set LED feedback, or store dive-related info"
   ]
  },
  {
   "cell_type": "code",
   "execution_count": null,
   "id": "e2d57d09",
   "metadata": {},
   "outputs": [],
   "source": [
    "# TODO: Start your data collector and run your underwater test\n",
    "# Use number_of_records_to_collect to limit log length"
   ]
  },
  {
   "cell_type": "code",
   "execution_count": null,
   "id": "0b492197",
   "metadata": {},
   "outputs": [],
   "source": [
    "# TODO: Visualize your data after the dive\n",
    "# Use matplotlib or print summaries to analyze your underwater ROV experiment"
   ]
  }
 ],
 "metadata": {},
 "nbformat": 4,
 "nbformat_minor": 5
}
