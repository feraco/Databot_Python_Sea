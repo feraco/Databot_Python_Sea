{
 "cells": [
  {
   "cell_type": "markdown",
   "id": "2ee5044b",
   "metadata": {},
   "source": [
    "# Databot Python API Overview and Exercises\n",
    "This notebook provides an overview of the key classes and functions in the Databot Python API. Each section will explain the purpose of an API component, followed by example code and student exercises."
   ]
  },
  {
   "cell_type": "markdown",
   "id": "420048cc",
   "metadata": {},
   "source": [
    "## 1. DatabotConfig\n",
    "The `DatabotConfig` class is used to define what sensors should be enabled on the Databot.\n",
    "\n",
    "**Common Sensor Flags:**\n",
    "- `pressure`: atmospheric pressure\n",
    "- `accl`: raw acceleration (including gravity)\n",
    "- `Laccl`: linear acceleration (gravity-removed)\n",
    "- `gyro`: gyroscope rotation\n",
    "- `magneto`: magnetic field strength\n",
    "- `ambLight`: ambient light in lux\n",
    "- `Etemp1` and `Etemp2`: external temperature sensors\n",
    "\n",
    "**Other Parameters:**\n",
    "- `refresh`: data update interval (in ms)\n",
    "- `decimal`: number of decimal places for each value\n",
    "- `led1`, `led2`, `led3`: LED configuration (use `DatabotLEDConfig`)"
   ]
  },
  {
   "cell_type": "code",
   "execution_count": null,
   "id": "3e0a341c",
   "metadata": {},
   "outputs": [],
   "source": [
    "from databot import PyDatabot\n",
    "PyDatabot.get_databot_address(force_address_read=True)"
   ]
  },
  {
   "cell_type": "code",
   "execution_count": null,
   "id": "bb1b254e",
   "metadata": {},
   "outputs": [],
   "source": [
    "# Example: Enable pressure and gyroscope sensors\n",
    "from databot import DatabotConfig\n",
    "config = DatabotConfig()\n",
    "config.pressure = True\n",
    "config.gyro = True\n",
    "config.refresh = 500  # Update every 500 ms"
   ]
  },
  {
   "cell_type": "markdown",
   "id": "347de351",
   "metadata": {},
   "source": [
    "## 2. DatabotLEDConfig\n",
    "Used to turn LEDs on/off and set their color.\n",
    "\n",
    "**Format:**\n",
    "`DatabotLEDConfig(state: bool, R: int, G: int, B: int)`\n",
    "- `state`: True to enable, False to turn off\n",
    "- `R`, `G`, `B`: Color values from 0 to 255"
   ]
  },
  {
   "cell_type": "code",
   "execution_count": null,
   "id": "b60953a9",
   "metadata": {},
   "outputs": [],
   "source": [
    "# Example: Set LED1 to green\n",
    "from databot import DatabotLEDConfig\n",
    "config.led1 = DatabotLEDConfig(True, 0, 255, 0)"
   ]
  },
  {
   "cell_type": "markdown",
   "id": "ba944be8",
   "metadata": {},
   "source": [
    "## 3. PyDatabot and PyDatabotSaveToFileDataCollector\n",
    "`PyDatabot` is the base class for reading data.\n",
    "`PyDatabotSaveToFileDataCollector` extends it and saves data to a file.\n",
    "\n",
    "You can override the `process_databot_data()` method to customize what happens when data is received."
   ]
  },
  {
   "cell_type": "code",
   "execution_count": null,
   "id": "f6e50285",
   "metadata": {},
   "outputs": [],
   "source": [
    "# Example: Save 50 readings from the pressure sensor to a file\n",
    "from databot import PyDatabotSaveToFileDataCollector\n",
    "\n",
    "filename = 'pressure_log.txt'\n",
    "collector = PyDatabotSaveToFileDataCollector(config, file_name=filename, number_of_records_to_collect=50)\n",
    "collector.run()"
   ]
  },
  {
   "cell_type": "markdown",
   "id": "620bce3a",
   "metadata": {},
   "source": [
    "## Student Exercises\n",
    "Try completing the following tasks to get more comfortable using the Databot API:"
   ]
  },
  {
   "cell_type": "markdown",
   "id": "b9e64215",
   "metadata": {},
   "source": [
    "**Exercise 1:** Enable the ambient light sensor and record 20 readings to a file."
   ]
  },
  {
   "cell_type": "code",
   "execution_count": null,
   "id": "4430da8e",
   "metadata": {},
   "outputs": [],
   "source": [
    "# TODO: Enable ambient light sensor and log data\n",
    "config.ambLight = True\n",
    "collector = PyDatabotSaveToFileDataCollector(config, file_name='light_log.txt', number_of_records_to_collect=20)\n",
    "collector.run()"
   ]
  },
  {
   "cell_type": "markdown",
   "id": "33e1a504",
   "metadata": {},
   "source": [
    "**Exercise 2:** Write a function that returns an LED color depending on light intensity (bright, medium, dark)."
   ]
  },
  {
   "cell_type": "code",
   "execution_count": null,
   "id": "7fd1749c",
   "metadata": {},
   "outputs": [],
   "source": [
    "# TODO: Map ambient light to LED color\n",
    "def get_led_for_light(lux):\n",
    "    if lux > 800:\n",
    "        return DatabotLEDConfig(True, 255, 255, 255)  # White (bright)\n",
    "    elif lux > 300:\n",
    "        return DatabotLEDConfig(True, 0, 0, 255)      # Blue (medium)\n",
    "    else:\n",
    "        return DatabotLEDConfig(True, 255, 0, 0)      # Red (dark)\n"
   ]
  },
  {
   "cell_type": "markdown",
   "id": "e3187439",
   "metadata": {},
   "source": [
    "**Exercise 3:** Modify a collector class to store both pressure and temperature readings, and calculate estimated water density."
   ]
  },
  {
   "cell_type": "code",
   "execution_count": null,
   "id": "885e1dae",
   "metadata": {},
   "outputs": [],
   "source": [
    "# TODO: Custom logger with pressure and temperature\n",
    "class WaterDensityLogger(PyDatabotSaveToFileDataCollector):\n",
    "    def process_databot_data(self, epoch, data):\n",
    "        pressure = float(data.get('pressure', 101325))\n",
    "        temp = float(data.get('external_temp_1', 25))\n",
    "        density = 1000 - (temp - 4)**2 * 0.2  # very rough estimate\n",
    "        data['density'] = round(density, 2)\n",
    "        data['timestamp'] = epoch\n",
    "        with open(self.file_path, 'a') as f:\n",
    "            f.write(json.dumps(data) + '\\n')"
   ]
  },
  {
   "cell_type": "markdown",
   "id": "dcd1794b",
   "metadata": {},
   "source": [
    "**Exercise 4:** Use the `gyro` sensor to detect if the Databot rotates more than 30 degrees in any direction."
   ]
  },
  {
   "cell_type": "code",
   "execution_count": null,
   "id": "6ce24dbe",
   "metadata": {},
   "outputs": [],
   "source": [
    "# TODO: Rotation detection logic\n",
    "def detect_rotation(gyro_data):\n",
    "    gx = abs(float(gyro_data.get('gyro_x', 0)))\n",
    "    gy = abs(float(gyro_data.get('gyro_y', 0)))\n",
    "    gz = abs(float(gyro_data.get('gyro_z', 0)))\n",
    "    if gx > 30 or gy > 30 or gz > 30:\n",
    "        return True\n",
    "    return False"
   ]
  },
  {
   "cell_type": "markdown",
   "id": "ddf16399",
   "metadata": {},
   "source": [
    "**Exercise 5:** Explore the `DatabotBLEConfig` class. What UUIDs are used for communication?"
   ]
  },
  {
   "cell_type": "code",
   "execution_count": null,
   "id": "84445fe2",
   "metadata": {},
   "outputs": [],
   "source": [
    "# TODO: Print the BLE service and characteristic UUIDs\n",
    "from databot import DatabotBLEConfig\n",
    "cfg = DatabotBLEConfig()\n",
    "print('Service UUID:', cfg.service_uuid)\n",
    "print('Read UUID:', cfg.read_uuid)\n",
    "print('Write UUID:', cfg.write_uuid)"
   ]
  }
 ],
 "metadata": {
  "language_info": {
   "name": "python"
  }
 },
 "nbformat": 4,
 "nbformat_minor": 5
}
